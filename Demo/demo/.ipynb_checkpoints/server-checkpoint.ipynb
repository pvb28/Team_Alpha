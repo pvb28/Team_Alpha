{
 "cells": [
  {
   "cell_type": "code",
   "execution_count": 8,
   "metadata": {},
   "outputs": [
    {
     "data": {
      "text/plain": [
       "\"@app.route('/my-link/')\\ndef my_link():\\n    \\nif __name__ == '__main__':\\n  app.run(debug=True)\""
      ]
     },
     "execution_count": 8,
     "metadata": {},
     "output_type": "execute_result"
    }
   ],
   "source": [
    "from vosk import Model, KaldiRecognizer\n",
    "from pydub import AudioSegment\n",
    "import wave\n",
    "import os\n",
    "import ast\n",
    "from flask import Flask, render_template\n",
    "app = Flask(__name__)\n",
    "\n",
    "@app.route('/')\n",
    "def index():\n",
    "  return render_template('index.html')\n",
    "\n",
    "\n",
    "audio_path = 'C:/Users/admin/Desktop/STT/audio/'\n",
    "\n",
    "def fun(i):\n",
    "    CHUNK = 1024 \n",
    "    sound = AudioSegment.from_wav('C:/Users/admin/Desktop/STT/audio/' + i)\n",
    "    sound = sound.set_channels(1) # To make it MONO Channel\n",
    "    sound = sound.set_frame_rate(44100) # Sample Frame rate taken here = 44,100 Hz\n",
    "    sound.export('C:/Users/admin/Desktop/STT/audio/' + i, format=\"wav\")\n",
    "    \n",
    "    wf = wave.open(audio_path + i, 'rb')\n",
    "\n",
    "    model = Model(\"vosk-model-small-en-in-0.4\")\n",
    "        \n",
    "    rec = KaldiRecognizer(model, wf.getframerate())\n",
    "\n",
    "    while True:\n",
    "        data = wf.readframes(CHUNK)\n",
    "        if len(data) == 0:\n",
    "            break\n",
    "        if rec.AcceptWaveform(data):\n",
    "            pass\n",
    "\n",
    "    dict = ast.literal_eval(rec.FinalResult()) #changing the string to dictionary \n",
    "    \n",
    "    print(dict[\"text\"])\n",
    "    \n",
    "    \n",
    "    \n",
    "@app.route('/my-link/')\n",
    "def my_link():\n",
    "    for i in os.listdir(audio_path):\n",
    "        fun(i)\n",
    "       \n",
    "\n",
    "if __name__ == '__main__':\n",
    "  app.run(debug=True)"
   ]
  },
  {
   "cell_type": "code",
   "execution_count": 29,
   "metadata": {},
   "outputs": [
    {
     "name": "stdout",
     "output_type": "stream",
     "text": [
      "harshi\n",
      "15.00147533416748\n"
     ]
    }
   ],
   "source": [
    "import time\n",
    "a = time.time()\n",
    "time.sleep(15)\n",
    "b = time.time()\n",
    "print('harshi')\n",
    "print(b-a)"
   ]
  },
  {
   "cell_type": "code",
   "execution_count": null,
   "metadata": {},
   "outputs": [],
   "source": [
    "from vosk import Model, KaldiRecognizer\n",
    "from pydub import AudioSegment\n",
    "import wave\n",
    "import os\n",
    "import time\n",
    "import ast\n",
    "\n",
    "audio_path = 'C:/Users/admin/Desktop/STT/audio/'\n",
    "\n",
    "for i in os.listdir(audio_path):\n",
    "    time.sleep(5)\n",
    "    CHUNK = 1024 \n",
    "    sound = AudioSegment.from_wav('C:/Users/admin/Desktop/STT/audio/' + i)\n",
    "    sound = sound.set_channels(1) # To make it MONO Channel\n",
    "    sound = sound.set_frame_rate(44100) # Sample Frame rate taken here = 44,100 Hz\n",
    "    sound.export('C:/Users/admin/Desktop/STT/audio/' + i, format=\"wav\")\n",
    "    \n",
    "    wf = wave.open(audio_path + i, 'rb')\n",
    "\n",
    "    model = Model(\"vosk-model-small-en-in-0.4\")\n",
    "        \n",
    "    rec = KaldiRecognizer(model, wf.getframerate())\n",
    "\n",
    "    while True:\n",
    "        data = wf.readframes(CHUNK)\n",
    "        if len(data) == 0:\n",
    "            break\n",
    "        if rec.AcceptWaveform(data):\n",
    "            pass\n",
    "\n",
    "    dict = ast.literal_eval(rec.FinalResult()) #changing the string to dictionary \n",
    "    \n",
    "    print(dict[\"text\"])"
   ]
  }
 ],
 "metadata": {
  "kernelspec": {
   "display_name": "Python 3",
   "language": "python",
   "name": "python3"
  },
  "language_info": {
   "codemirror_mode": {
    "name": "ipython",
    "version": 3
   },
   "file_extension": ".py",
   "mimetype": "text/x-python",
   "name": "python",
   "nbconvert_exporter": "python",
   "pygments_lexer": "ipython3",
   "version": "3.8.5"
  }
 },
 "nbformat": 4,
 "nbformat_minor": 4
}
